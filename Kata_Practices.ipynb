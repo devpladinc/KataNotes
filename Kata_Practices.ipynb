{
  "nbformat": 4,
  "nbformat_minor": 0,
  "metadata": {
    "colab": {
      "name": "Kata Practices",
      "provenance": [],
      "collapsed_sections": [],
      "authorship_tag": "ABX9TyPBi5P3RGIJH2D5zzHhHZR1",
      "include_colab_link": true
    },
    "kernelspec": {
      "name": "python3",
      "display_name": "Python 3"
    },
    "language_info": {
      "name": "python"
    }
  },
  "cells": [
    {
      "cell_type": "markdown",
      "metadata": {
        "id": "view-in-github",
        "colab_type": "text"
      },
      "source": [
        "<a href=\"https://colab.research.google.com/github/devpladinc/KataNotes/blob/main/Kata_Practices.ipynb\" target=\"_parent\"><img src=\"https://colab.research.google.com/assets/colab-badge.svg\" alt=\"Open In Colab\"/></a>"
      ]
    },
    {
      "cell_type": "code",
      "metadata": {
        "id": "EeVK34CBWhWC"
      },
      "source": [
        "#converts text into camel case except first word untouched orientation\n",
        "def to_camel_case(text):\n",
        "    text = (text.replace(\"-\",\" \").replace(\"_\",\" \")).split(\" \")\n",
        "    next_text = \"\".join([item.title() if text.index(item) != 0 else item for item in text])\n",
        "    return next_text"
      ],
      "execution_count": null,
      "outputs": []
    },
    {
      "cell_type": "code",
      "metadata": {
        "id": "hcj7SKtQXVhE"
      },
      "source": [
        "# converts a text into a blurred / hashtags except last 4 digits/characters.\n",
        "def maskify(cc):\n",
        "    return \"\".join(['#' for char in range(len(cc[:-4]))]) + cc[-4:]\n",
        "\n",
        "# with consideration of character count\n",
        "def maskify(cc):\n",
        "    if len(cc) < 4:\n",
        "        return cc\n",
        "    return \"#\" * (len(cc)-4) + cc[-4:]"
      ],
      "execution_count": null,
      "outputs": []
    },
    {
      "cell_type": "code",
      "metadata": {
        "id": "zNvLmn6WbI5K"
      },
      "source": [
        "def even_or_odd(number):\n",
        "  return 'Even'if number % 2 == 0 else 'Odd'"
      ],
      "execution_count": null,
      "outputs": []
    },
    {
      "cell_type": "code",
      "metadata": {
        "id": "PdyMyEoVb2pA"
      },
      "source": [
        "# take a non negative number and arrange the numbers in descending order\n",
        "def descending_order(num):\n",
        "  return int(\"\".join(sorted([n for n in str(num)], reverse=True)))\n",
        "\n",
        "# without for loop\n",
        "def descending_order(num):\n",
        "    return int(\"\".join(sorted(str(num), reverse=True)))\n",
        "\n",
        "# applicable in string\n",
        "sample_string = sorted(\"Python\")"
      ],
      "execution_count": null,
      "outputs": []
    },
    {
      "cell_type": "code",
      "metadata": {
        "id": "fM8-hevMftsO"
      },
      "source": [
        "# remove same list values from 2 lists \n",
        "def array_diff(a, b):\n",
        "  return [x for x in a if x not in b]"
      ],
      "execution_count": null,
      "outputs": []
    },
    {
      "cell_type": "code",
      "metadata": {
        "id": "EGCJ6079mVjl"
      },
      "source": [
        "# ord() function returns an integer representing the Unicode character\n",
        "# force lowercase to avoid negative number ord\n",
        "def alphabet_position(text):\n",
        "    return \" \".join([str(ord(char) - 96) for char in text.lower() if char.isalpha()])\n"
      ],
      "execution_count": null,
      "outputs": []
    },
    {
      "cell_type": "code",
      "metadata": {
        "id": "EeOj8FVbOev-"
      },
      "source": [
        "#  list of items without any elements with the same value next to each other and preserving the original order of elements.\n",
        "# conventional\n",
        "def unique_in_order(iterable):\n",
        "    empt = []\n",
        "    for i in iterable:\n",
        "      if len(empt) == 0 or i != empt[-1]:\n",
        "        empt.append(i)\n",
        "    return empt"
      ],
      "execution_count": null,
      "outputs": []
    },
    {
      "cell_type": "code",
      "metadata": {
        "id": "T0okjPIDW4BP"
      },
      "source": [
        "# same as above -- using itertools\n",
        "from itertools import groupby\n",
        "\n",
        "def unique_in_order(iterable):\n",
        "    return [(k) for (k, _) in groupby(iterable)]"
      ],
      "execution_count": null,
      "outputs": []
    },
    {
      "cell_type": "code",
      "metadata": {
        "id": "bp6Pn8crXm5V"
      },
      "source": [
        "# locate which element is not same pattern as the rest\n",
        "def find_outlier(integers):\n",
        "    odd_l, even_l = [], []\n",
        "    for i in integers:\n",
        "      if i % 2 == 0:\n",
        "        even_l.append(i)\n",
        "      else:\n",
        "        odd_l.append(i)\n",
        "    \n",
        "    return even_l[0] if len(even_l) < len(odd_l) else odd_l[0]"
      ],
      "execution_count": null,
      "outputs": []
    },
    {
      "cell_type": "code",
      "metadata": {
        "id": "_vk5wGZRa6lM"
      },
      "source": [
        "# takes first element of word, put on last + \"ay\", disregard if special chars\n",
        "def pig_it(text):\n",
        "  new_sentence = []\n",
        "  for word in text.split(\" \"):\n",
        "    if word.isalnum():\n",
        "      new_word = word[1:] + word[0] + \"ay\"\n",
        "    else:\n",
        "      new_word = word[1:] + word[0]\n",
        "    new_sentence.append(new_word)\n",
        "  return \" \".join(new_sentence)\n",
        "\n",
        "# one-liners\n",
        "def pig_it(text):\n",
        "    lst = text.split()\n",
        "    return ' '.join( [word[1:] + word[:1] + 'ay' if word.isalpha() else word for word in lst])"
      ],
      "execution_count": null,
      "outputs": []
    },
    {
      "cell_type": "code",
      "metadata": {
        "id": "bQpVgWNZtFO_"
      },
      "source": [
        "# convert n to binary, then add all numbers\n",
        "def single_digit(n):\n",
        "    bi = str(bin(n)).lstrip('0b')\n",
        "    sums = sum([int(dig) for dig in bi])\n",
        "    if sums < 10:\n",
        "      return sums\n",
        "    else:\n",
        "      return single_digit(sums)\n"
      ],
      "execution_count": null,
      "outputs": []
    },
    {
      "cell_type": "code",
      "metadata": {
        "id": "Sy_AqPGW1YPP"
      },
      "source": [
        "# locate element 's'\n",
        "def find_e(s):\n",
        "    try:\n",
        "        count = s.lower().count('e')\n",
        "        if count > 0:\n",
        "            return str(count)\n",
        "        elif len(s) == 0:\n",
        "            return ''\n",
        "        elif s is None:\n",
        "            return None\n",
        "        else:\n",
        "            return f'There is no \"e\".'\n",
        "    except Exception:\n",
        "        return None\n",
        "\n",
        "# one-liners\n",
        "def find_e(s):\n",
        "    return s and str(s.count('e')+s.count('E') or 'There is no \"e\".')"
      ],
      "execution_count": null,
      "outputs": []
    },
    {
      "cell_type": "code",
      "metadata": {
        "id": "7eHQ28js5K5H"
      },
      "source": [
        "def encode(st):\n",
        "    vowels = {\n",
        "              'a':'1',\n",
        "              'e':'2',\n",
        "              'i':'3',\n",
        "              'o':'4',\n",
        "              'u':'5'\n",
        "              }\n",
        "    for ch in st:\n",
        "      if ch in vowels.keys():\n",
        "        st = st.replace(ch, vowels[ch])\n",
        "    return st\n",
        "    \n",
        "def decode(st):\n",
        "  vowels = {\n",
        "              '1':'a',\n",
        "              '2':'e',\n",
        "              '3':'i',\n",
        "              '4':'o',\n",
        "              '5':'u'\n",
        "              }\n",
        "      \n",
        "  for ch in st:\n",
        "    if ch in vowels.keys():\n",
        "      st = st.replace(ch, vowels[ch])\n",
        "  return st\n",
        "\n",
        "# one-liners\n",
        "# https://www.w3schools.com/python/ref_string_maketrans.asp\n",
        "\n",
        "# method to make a mapping table from given strings\n",
        "def encode(s, t=str.maketrans(\"aeiou\", \"12345\")):\n",
        "    return s.translate(t)\n",
        "    \n",
        "def decode(s, t=str.maketrans(\"12345\", \"aeiou\")):\n",
        "    return s.translate(t)"
      ],
      "execution_count": null,
      "outputs": []
    },
    {
      "cell_type": "code",
      "metadata": {
        "id": "Z0nc8bplrph0"
      },
      "source": [
        "# Return True/true if there are more (or equal) positive words than negative words, False/false otherwise.\n",
        "# positive words (a-m)\n",
        "# negative words (n-z)\n",
        "\n",
        "pos = 'abcdefghijklm'\n",
        "def connotation(strng):\n",
        "    pos_point, neg_point = 0, 0\n",
        "    for word in strng.split(\" \"):\n",
        "      if word != '' and word is not None and word[0] in pos:\n",
        "        pos_point += 1\n",
        "      else:\n",
        "        neg_point += 1\n",
        "    return True if pos_point > neg_point else False"
      ],
      "execution_count": null,
      "outputs": []
    },
    {
      "cell_type": "code",
      "metadata": {
        "id": "pyTPPOEizukx"
      },
      "source": [
        "# check if 2nd word is mispelled\n",
        "def mispelled(word1,word2):\n",
        "    spell_point = 0\n",
        "    if word1 != word2:\n",
        "      for i in range(len(word2)):\n",
        "        if word1[i] != word2[i]:\n",
        "          spell_point += 1\n",
        "    else:\n",
        "      return False\n",
        "    return True if spell_point == 1 else False"
      ],
      "execution_count": null,
      "outputs": []
    },
    {
      "cell_type": "code",
      "metadata": {
        "id": "7PomazaVE5jE"
      },
      "source": [
        "# takes a number and multiply from that n number up to 1\n",
        "def factorial(num):\n",
        "  prod = 1\n",
        "\n",
        "  for i in range(1, num + 1):\n",
        "    prod = (prod * i)\n",
        "  return prod"
      ],
      "execution_count": null,
      "outputs": []
    }
  ]
}